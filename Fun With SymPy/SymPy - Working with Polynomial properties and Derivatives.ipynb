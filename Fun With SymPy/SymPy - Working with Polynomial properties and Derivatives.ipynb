{
 "cells": [
  {
   "cell_type": "markdown",
   "metadata": {},
   "source": [
    "# Fun with Sympy :\n",
    "# Plotting cubic polynomials and finding the zeros of their derivatives"
   ]
  },
  {
   "cell_type": "markdown",
   "metadata": {},
   "source": [
    "Working through the Symbol, Derivative, and solve methods to approach a toy problem - given a cubic polynomial with constants provided by the user, plot its form and show where the slopes are zero given its first derivative.\n",
    "\n",
    "Complex roots (when the quadratic formula tries to take the square root of a negative number) are not plotted here, only real-number roots."
   ]
  },
  {
   "cell_type": "code",
   "execution_count": 7,
   "metadata": {},
   "outputs": [
    {
     "name": "stdout",
     "output_type": "stream",
     "text": [
      "Enter data for polynomial in form ax^3 + bx^2 + cx + d with x ranges and tolerance.\n",
      "Cubic term coefficient a (default: -1.5):\n",
      "\n",
      "Squared term coefficient b (default: -12.3):\n",
      "\n",
      "First-power term coefficient c (default: 6):\n",
      "\n",
      "Constant term d (default: 500):\n",
      "\n",
      "Bottom of x domain (default: -10):\n",
      "\n",
      "Top of x domain (default: 10):\n",
      "\n",
      "Derivative of Cubic equation is:\n",
      "       2               \n",
      "- 4.5⋅x  - 24.6⋅x + 6.0\n",
      "The real roots of the cubic derivative are x = -5.701 and x = 0.234\n"
     ]
    },
    {
     "data": {
      "image/png": "[encoded data removed]",
      "text/plain": [
       "<Figure size 432x288 with 1 Axes>"
      ]
     },
     "metadata": {
      "needs_background": "light"
     },
     "output_type": "display_data"
    }
   ],
   "source": [
    "# -*- coding: utf-8 -*-\n",
    "\"\"\"\n",
    "Fun with sympy (Thanks to \"Doing Math With Python, Amit Saha, ISBN 978-1-59327-640-9)\n",
    "A take on Challenge 2, p. 55 USING sympy\n",
    "Also thanks to tutorials and examples at www.sympy.org\n",
    "\n",
    "Created on Tue Jan  9 16:26:13 2019\n",
    "@author: Chris Austin\n",
    "\"\"\"\n",
    "from sympy import Symbol, plot, Derivative, pprint, solve\n",
    "from sympy.plotting import plot_parametric\n",
    "\n",
    "# Set default values\n",
    "a,b,c,d,low,high = (-1.5, -12.3, 6, 500, -10, 10)\n",
    "\n",
    "try:\n",
    "    print(\"Enter data for polynomial in form ax^3 + bx^2 + cx + d with x ranges and tolerance.\")\n",
    "    a = float(input(\"Cubic term coefficient a (default: %s):\\n\" % a) or a)\n",
    "    b = float(input(\"Squared term coefficient b (default: %s):\\n\" % b) or b)\n",
    "    c = float(input(\"First-power term coefficient c (default: %s):\\n\" % c) or c)\n",
    "    d = float(input(\"Constant term d (default: %s):\\n\" % d) or d)\n",
    "    low = float(input(\"Bottom of x domain (default: %s):\\n\" % low) or low)\n",
    "    high = float(input(\"Top of x domain (default: %s):\\n\" % high) or high)\n",
    "        \n",
    "except ValueError:\n",
    "    print('You entered an invalid input')\n",
    "else:\n",
    "    x = Symbol('x')\n",
    "    polyCubic = a*x**3 + b*x**2 + c*x + d\n",
    "      \n",
    "    # The smallest y-value for positioning the axes of the plot doesn't necessarily \n",
    "    # have to happen at the low or high of the x ranges.\n",
    "    yExtremes = (polyCubic.subs(x, high), polyCubic.subs(x, low))\n",
    "        \n",
    "    p = plot(polyCubic, (x, low, high), axis_center = (low, min(yExtremes)),\n",
    "        title = \"y-values for {0}x^3 {1:+}x^2 {2:+}x {3:+} between {4} and {5}\".format(a,b,c,d,low,high),\n",
    "        show = False)\n",
    "\n",
    "        # Determine derivative of equation and if roots are non-complex and can be plotted \n",
    "    dx =Derivative(polyCubic, x)\n",
    "    dxSoln = dx.doit()        \n",
    "    print(\"Derivative of Cubic equation is:\")\n",
    "    pprint(dxSoln, use_unicode = True)\n",
    "        \n",
    "    roots = solve(dxSoln)\n",
    "    if isinstance(roots, complex):\n",
    "        print(\"Roots of the derivative have components in the complex plane (a + bi).\")\n",
    "    else:\n",
    "        point1 = polyCubic.subs(x, roots[0])\n",
    "        point2 = polyCubic.subs(x, roots[1])          \n",
    "        print(\"The real roots of the cubic derivative are x = {0:.3f} and x = {1:.3f}\".format(roots[0], roots[1]))\n",
    "        p2 = plot_parametric(x, 0, line_color = 'red', show = False)\n",
    "        p3 = plot_parametric(x, point1, line_color = 'orange', show = False)\n",
    "        p4 = plot_parametric(x, point2, line_color = 'orange', show = False)\n",
    "        p.append(p2[0])\n",
    "        p.append(p3[0])\n",
    "        p.append(p4[0])\n",
    "        p.show()"
   ]
  },
  {
   "cell_type": "markdown",
   "metadata": {},
   "source": [
    "It's a little easier to customize the plotting in matplotlib - Here's another version where sympy wasn't used..."
   ]
  },
  {
   "cell_type": "code",
   "execution_count": 8,
   "metadata": {},
   "outputs": [
    {
     "name": "stdout",
     "output_type": "stream",
     "text": [
      "Enter data for polynomial in form ax^3 + bx^2 + cx + d with x ranges and tolerance.\n",
      "Cubic term coefficient a (default: -1.5):\n",
      "\n",
      "Squared term coefficient b (default: -12.3):\n",
      "\n",
      "First-power term coefficient c (default: 6):\n",
      "\n",
      "Constant term d (default: 500):\n",
      "\n",
      "Bottom of x domain (default: -10):\n",
      "\n",
      "Top of x domain (default: 10):\n",
      "\n",
      "Domain increment for x (default: 0.01):\n",
      "\n",
      "Cubic Derivative is -4.50x^2 -24.60x +6.00\n",
      "Real roots exist fot the cubic derivative.\n",
      "The real roots of the cubic derivative are x = -5.701 and x = 0.234\n"
     ]
    },
    {
     "data": {
      "image/png": "[encoded data removed]",
      "text/plain": [
       "<Figure size 432x288 with 1 Axes>"
      ]
     },
     "metadata": {
      "needs_background": "light"
     },
     "output_type": "display_data"
    }
   ],
   "source": [
    "# -*- coding: utf-8 -*-\n",
    "\"\"\"\n",
    "Created on Sat Jan  5 21:58:07 2019\n",
    "\n",
    "Thanks to \"Doing Math With Python, Amit Saha, ISBN 978-1-59327-640-9\n",
    "A take on Challenge 2, p. 55 WITHOUT using sympy\n",
    "\n",
    "@author: caust\n",
    "\"\"\"\n",
    "from matplotlib import pyplot as plt\n",
    "\n",
    "def polynom(xvalues,a,b,c,d):\n",
    "    y = []\n",
    "    for x in xvalues:\n",
    "        y.append(a*x**3 + b*x**2 + c*x + d)\n",
    "    return y\n",
    "\n",
    "def plotit(a,b,c,d,low,top, increment):\n",
    "    # create points for plotting in the x domain with a list comprehension\n",
    "    xDomain = [x*increment for x in range(int(low/increment), int(top/increment))]\n",
    "    yDomain = polynom(xDomain,a,b,c,d)\n",
    "    plt.plot(xDomain, yDomain)\n",
    "    plt.title(\"y-values for {0}x^3 {1:+}x^2 {2:+}x {3:+} between {4} and {5}\".format(a,b,c,d,low,top))\n",
    "\n",
    "    # Highlight y=0 with a red line\n",
    "    plt.axhline(color = 'red', linestyle = '-', linewidth = 1.0)\n",
    "    \n",
    "    aPrime, bPrime, cPrime = polyDerivative(a,b,c)\n",
    "    print(\"Cubic Derivative is {0:.2f}x^2 {1:+.2f}x {2:+.2f}\".format(aPrime,bPrime,cPrime))\n",
    "\n",
    "    # see if there are complex roots out of the cubic derivative using the quadratic equation - \n",
    "    # (-bPrime +- sqrt(bPrime^2 - 4 * aPrime * cPrime)) / 2 * aPrime\n",
    "    # occurs in the sqrt() component when (bPrime^2 - 4 * aPrime * cPrime) is negative.\n",
    "    if (bPrime**2 - (4*aPrime*cPrime)) < 0:\n",
    "        print(\"Roots of the derivative have components in the complex plane (a + bi).\")\n",
    "    else:\n",
    "        print(\"Real roots exist fot the cubic derivative.\")\n",
    "        roots = polyRoots(aPrime, bPrime, cPrime)\n",
    "        print(\"The real roots of the cubic derivative are x = {0:.3f} and x = {1:.3f}\".format(roots[0], roots[1]))\n",
    "        plt.scatter(x=roots[0], y= a*roots[0]**3 + b*roots[0]**2 + cPrime*roots[0] + d, c = \"orange\", s = 100)\n",
    "        plt.scatter(x=roots[1], y= a*roots[1]**3 + b*roots[1]**2 + cPrime*roots[1] + d, c = \"orange\", s = 100)\n",
    "    \n",
    "def polyDerivative(a,b,c):\n",
    "    return (3*a, 2*b, c)\n",
    "\n",
    "def polyRoots(a,b,c):\n",
    "    root1 = (-b + (b**2 - (4*a*c))**0.5)/(2*a)\n",
    "    root2 = (-b - (b**2 - (4*a*c))**0.5)/(2*a)\n",
    "    return root1, root2\n",
    "    \n",
    "# Set default values\n",
    "a,b,c,d,low,top,increment = (-1.5, -12.3, 6, 500, -10, 10, .01)\n",
    "\n",
    "try:\n",
    "    print(\"Enter data for polynomial in form ax^3 + bx^2 + cx + d with x ranges and tolerance.\")\n",
    "    a = float(input(\"Cubic term coefficient a (default: %s):\\n\" % a) or a)\n",
    "    b = float(input(\"Squared term coefficient b (default: %s):\\n\" % b) or b)\n",
    "    c = float(input(\"First-power term coefficient c (default: %s):\\n\" % c) or c)\n",
    "    d = float(input(\"Constant term d (default: %s):\\n\" % d) or d)\n",
    "    low = float(input(\"Bottom of x domain (default: %s):\\n\" % low) or low)\n",
    "    top = float(input(\"Top of x domain (default: %s):\\n\" % top) or top)\n",
    "    increment = float(input(\"Domain increment for x (default: %s):\\n\" % increment) or increment)\n",
    "except ValueError:\n",
    "    print('You entered an invalid input')\n",
    "else:\n",
    "    plotit(a,b,c,d,low,top, increment)\n",
    "    plt.show()"
   ]
  },
  {
   "cell_type": "code",
   "execution_count": null,
   "metadata": {},
   "outputs": [],
   "source": []
  }
 ],
 "metadata": {
  "kernelspec": {
   "display_name": "Python 3",
   "language": "python",
   "name": "python3"
  },
  "language_info": {
   "codemirror_mode": {
    "name": "ipython",
    "version": 3
   },
   "file_extension": ".py",
   "mimetype": "text/x-python",
   "name": "python",
   "nbconvert_exporter": "python",
   "pygments_lexer": "ipython3",
   "version": "3.6.8"
  }
 },
 "nbformat": 4,
 "nbformat_minor": 2
}
